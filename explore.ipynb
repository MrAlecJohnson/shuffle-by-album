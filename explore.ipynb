{
 "cells": [
  {
   "cell_type": "markdown",
   "metadata": {},
   "source": [
    "# Getting started with Spotipy\n",
    "\n",
    "Start off in a notebook to see if the endpoints give me everything I need"
   ]
  },
  {
   "cell_type": "markdown",
   "metadata": {},
   "source": [
    "## Connect and authenticate\n",
    "\n",
    "You'll need to have set up an App in your Spotify dashboard first"
   ]
  },
  {
   "cell_type": "code",
   "execution_count": null,
   "metadata": {},
   "outputs": [],
   "source": [
    "import random\n",
    "import re\n",
    "\n",
    "import spotipy\n",
    "from spotipy.oauth2 import SpotifyOAuth\n",
    "import yaml\n",
    "\n",
    "\n",
    "with open(\"params.yaml\", \"r\") as f:\n",
    "    params = yaml.safe_load(f)\n",
    "\n",
    "sp = spotipy.Spotify(\n",
    "    auth_manager=SpotifyOAuth(\n",
    "        client_id=params[\"client_id\"],\n",
    "        client_secret=params[\"client_secret\"],\n",
    "        redirect_uri=params[\"redirect_uri\"],\n",
    "        scope=\"playlist-modify-private\",\n",
    "    )\n",
    ")"
   ]
  },
  {
   "cell_type": "markdown",
   "metadata": {},
   "source": [
    "## Extract playlist IDs"
   ]
  },
  {
   "cell_type": "code",
   "execution_count": null,
   "metadata": {},
   "outputs": [],
   "source": [
    "# Get playlist ID from 'Copy link to playlist'\n",
    "# ID is the url substring from after '/playlist/' up to the question mark\n",
    "id_pattern = re.compile(\"/playlist/(\\w+)\\?\")\n",
    "input_playlist_url = params[\"input_playlist\"]\n",
    "input_playlist_id = id_pattern.search(input_playlist_url)[1]\n",
    "output_playlist_url = params[\"output_playlist\"]\n",
    "output_playlist_id = id_pattern.search(output_playlist_url)[1]"
   ]
  },
  {
   "cell_type": "markdown",
   "metadata": {},
   "source": [
    "## Pick songs from the input playlist\n",
    "\n",
    "Basically this should be one song (or more, to allow weighting) from each album you want to shuffle.\n",
    "\n",
    "Perhaps an option to shuffle by artist instead? Grab any album of theirs."
   ]
  },
  {
   "cell_type": "code",
   "execution_count": null,
   "metadata": {},
   "outputs": [],
   "source": [
    "# Use API to get the playlist content\n",
    "fields = \"tracks.items(track(album))\"\n",
    "playlist = sp.playlist(input_playlist_id, fields=fields)\n",
    "songs = playlist[\"tracks\"][\"items\"]\n",
    "\n",
    "# Pick 1 or more songs from it\n",
    "random.seed = None\n",
    "pick = 1\n",
    "chosen_songs = random.choices(songs, k=pick)"
   ]
  },
  {
   "cell_type": "markdown",
   "metadata": {},
   "source": [
    "## Send a random album to the output playlist\n",
    "\n",
    "This should complete the minimum process"
   ]
  },
  {
   "cell_type": "code",
   "execution_count": null,
   "metadata": {},
   "outputs": [],
   "source": [
    "for song in chosen_songs:\n",
    "    album_id = song[\"track\"][\"album\"][\"id\"]\n",
    "    album_tracks = sp.album_tracks(album_id)\n",
    "    album_track_ids = [track[\"id\"] for track in album_tracks[\"items\"]]\n",
    "    sp.playlist_add_items(output_playlist_id, album_track_ids)\n",
    "    # or use playlist_replace_items if I want to delete everything already there?"
   ]
  },
  {
   "cell_type": "code",
   "execution_count": null,
   "metadata": {},
   "outputs": [],
   "source": []
  }
 ],
 "metadata": {
  "interpreter": {
   "hash": "55a4b07053d80c45f9149467c3c291d16edc8fbbf4525ef012de783ee8f6d39c"
  },
  "kernelspec": {
   "display_name": "Python 3.9.6 64-bit ('shuffle-by-album': pyenv)",
   "language": "python",
   "name": "python3"
  },
  "language_info": {
   "codemirror_mode": {
    "name": "ipython",
    "version": 3
   },
   "file_extension": ".py",
   "mimetype": "text/x-python",
   "name": "python",
   "nbconvert_exporter": "python",
   "pygments_lexer": "ipython3",
   "version": "3.9.6"
  }
 },
 "nbformat": 4,
 "nbformat_minor": 2
}
