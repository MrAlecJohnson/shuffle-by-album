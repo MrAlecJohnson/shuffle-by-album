{
 "cells": [
  {
   "cell_type": "code",
   "execution_count": null,
   "metadata": {},
   "outputs": [],
   "source": [
    "import spotipy\n",
    "\n",
    "from shuffle_by_album.spotify_functions import (\n",
    "    get_params,\n",
    "    authenticate_spotify,\n",
    "    playlist_id_dict,\n",
    "    playlist_albums,\n",
    ")\n",
    "\n",
    "params = get_params(\"params.yaml\")\n",
    "auth = authenticate_spotify(params)\n",
    "sp = spotipy.Spotify(auth_manager=auth)"
   ]
  },
  {
   "cell_type": "code",
   "execution_count": null,
   "metadata": {},
   "outputs": [],
   "source": [
    "input_playlist_id = playlist_id_dict(sp)[\"Album shuffle input\"]"
   ]
  },
  {
   "cell_type": "code",
   "execution_count": null,
   "metadata": {},
   "outputs": [],
   "source": [
    "albums = playlist_albums(sp, input_playlist_id)"
   ]
  },
  {
   "cell_type": "code",
   "execution_count": null,
   "metadata": {},
   "outputs": [],
   "source": [
    "albums[0]"
   ]
  },
  {
   "cell_type": "code",
   "execution_count": null,
   "metadata": {},
   "outputs": [],
   "source": []
  }
 ],
 "metadata": {
  "interpreter": {
   "hash": "55a4b07053d80c45f9149467c3c291d16edc8fbbf4525ef012de783ee8f6d39c"
  },
  "kernelspec": {
   "display_name": "Python 3.9.6 64-bit ('shuffle-by-album')",
   "language": "python",
   "name": "python3"
  },
  "language_info": {
   "codemirror_mode": {
    "name": "ipython",
    "version": 3
   },
   "file_extension": ".py",
   "mimetype": "text/x-python",
   "name": "python",
   "nbconvert_exporter": "python",
   "pygments_lexer": "ipython3",
   "version": "3.9.6"
  }
 },
 "nbformat": 4,
 "nbformat_minor": 2
}
